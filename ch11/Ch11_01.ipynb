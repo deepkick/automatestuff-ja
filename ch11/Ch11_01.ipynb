{
 "cells": [
  {
   "cell_type": "code",
   "execution_count": 4,
   "metadata": {},
   "outputs": [
    {
     "data": {
      "text/plain": [
       "True"
      ]
     },
     "execution_count": 4,
     "metadata": {},
     "output_type": "execute_result"
    }
   ],
   "source": [
    "#! python3\n",
    "# mapIt.py - コマンドラインやクリップボードに指定した住所の地図を開く\n",
    "\n",
    "# https://www.google.com/maps/place/870+Valencia+St+San+Fransisco+CA/\n",
    "\n",
    "import webbrowser, sys, pyperclip\n",
    "if len(sys.argv) > 1:\n",
    "    # コマンドラインから住所を取得する\n",
    "    address = ' '.join(sys.argv[1:])\n",
    "else:\n",
    "    # クリップボードからから住所を取得する\n",
    "    address = pyperclip.paste()\n",
    "\n",
    "webbrowser.open('https://www.google.com/maps/place/' + address)\n",
    "\n"
   ]
  },
  {
   "cell_type": "code",
   "execution_count": 5,
   "metadata": {},
   "outputs": [
    {
     "name": "stdout",
     "output_type": "stream",
     "text": [
      "ページをダウンロード中 http://xkcd.com/...\n",
      "画像をダウンロード中 http://imgs.xkcd.com/comics/exposure_notification.png...\n",
      "ページをダウンロード中 http://xkcd.com/2341/...\n",
      "画像をダウンロード中 http://imgs.xkcd.com/comics/scientist_tech_help.png...\n",
      "ページをダウンロード中 http://xkcd.com/2340/...\n",
      "画像をダウンロード中 http://imgs.xkcd.com/comics/cosmologist_genres.png...\n",
      "ページをダウンロード中 http://xkcd.com/2339/...\n",
      "画像をダウンロード中 http://imgs.xkcd.com/comics/pods_vs_bubbles.png...\n",
      "ページをダウンロード中 http://xkcd.com/2338/...\n",
      "画像をダウンロード中 http://imgs.xkcd.com/comics/faraday_tour.png...\n",
      "ページをダウンロード中 http://xkcd.com/2337/...\n",
      "画像をダウンロード中 http://imgs.xkcd.com/comics/asterisk_corrections.png...\n",
      "ページをダウンロード中 http://xkcd.com/2336/...\n",
      "画像をダウンロード中 http://imgs.xkcd.com/comics/campfire_habitable_zone.png...\n",
      "ページをダウンロード中 http://xkcd.com/2335/...\n",
      "画像をダウンロード中 http://imgs.xkcd.com/comics/photo_deposit.png...\n",
      "ページをダウンロード中 http://xkcd.com/2334/...\n",
      "画像をダウンロード中 http://imgs.xkcd.com/comics/slide_trombone.png...\n",
      "ページをダウンロード中 http://xkcd.com/2333/...\n",
      "画像をダウンロード中 http://imgs.xkcd.com/comics/covid_risk_chart.png...\n",
      "ページをダウンロード中 http://xkcd.com/2332/...\n",
      "画像をダウンロード中 http://imgs.xkcd.com/comics/cursed_chair.png...\n",
      "ページをダウンロード中 http://xkcd.com/2331/...\n",
      "画像をダウンロード中 http://imgs.xkcd.com/comics/hamster_ball_2.png...\n",
      "ページをダウンロード中 http://xkcd.com/2330/...\n",
      "画像をダウンロード中 http://imgs.xkcd.com/comics/acceptable_risk.png...\n",
      "ページをダウンロード中 http://xkcd.com/2329/...\n",
      "画像をダウンロード中 http://imgs.xkcd.com/comics/universal_rating_scale.png...\n",
      "ページをダウンロード中 http://xkcd.com/2328/...\n",
      "画像をダウンロード中 http://imgs.xkcd.com/comics/space_basketball.png...\n",
      "ページをダウンロード中 http://xkcd.com/2327/...\n",
      "画像をダウンロード中 http://imgs.xkcd.com/comics/oily_house_index.png...\n",
      "ページをダウンロード中 http://xkcd.com/2326/...\n",
      "画像をダウンロード中 http://imgs.xkcd.com/comics/five_word_jargon.png...\n",
      "ページをダウンロード中 http://xkcd.com/2325/...\n",
      "画像をダウンロード中 http://imgs.xkcd.com/comics/endorheic_basin.png...\n",
      "ページをダウンロード中 http://xkcd.com/2324/...\n",
      "画像をダウンロード中 http://imgs.xkcd.com/comics/old_days_2.png...\n",
      "ページをダウンロード中 http://xkcd.com/2323/...\n",
      "画像をダウンロード中 http://imgs.xkcd.com/comics/modeling_study.png...\n",
      "ページをダウンロード中 http://xkcd.com/2322/...\n",
      "画像をダウンロード中 http://imgs.xkcd.com/comics/iso_paper_size_golden_spiral.png...\n"
     ]
    },
    {
     "ename": "KeyboardInterrupt",
     "evalue": "",
     "output_type": "error",
     "traceback": [
      "\u001b[0;31m---------------------------------------------------------------------------\u001b[0m",
      "\u001b[0;31mKeyboardInterrupt\u001b[0m                         Traceback (most recent call last)",
      "\u001b[0;32m<ipython-input-5-739a6272873f>\u001b[0m in \u001b[0;36m<module>\u001b[0;34m\u001b[0m\n\u001b[1;32m     37\u001b[0m     \u001b[0murl\u001b[0m \u001b[0;34m=\u001b[0m \u001b[0;34m'http://xkcd.com'\u001b[0m \u001b[0;34m+\u001b[0m \u001b[0mprev_link\u001b[0m\u001b[0;34m.\u001b[0m\u001b[0mget\u001b[0m\u001b[0;34m(\u001b[0m\u001b[0;34m'href'\u001b[0m\u001b[0;34m)\u001b[0m\u001b[0;34m\u001b[0m\u001b[0;34m\u001b[0m\u001b[0m\n\u001b[1;32m     38\u001b[0m \u001b[0;34m\u001b[0m\u001b[0m\n\u001b[0;32m---> 39\u001b[0;31m     \u001b[0mtime\u001b[0m\u001b[0;34m.\u001b[0m\u001b[0msleep\u001b[0m\u001b[0;34m(\u001b[0m\u001b[0;36m20\u001b[0m\u001b[0;34m)\u001b[0m\u001b[0;34m\u001b[0m\u001b[0;34m\u001b[0m\u001b[0m\n\u001b[0m\u001b[1;32m     40\u001b[0m \u001b[0;34m\u001b[0m\u001b[0m\n\u001b[1;32m     41\u001b[0m \u001b[0mprint\u001b[0m\u001b[0;34m(\u001b[0m\u001b[0;34m'完了'\u001b[0m\u001b[0;34m)\u001b[0m\u001b[0;34m\u001b[0m\u001b[0;34m\u001b[0m\u001b[0m\n",
      "\u001b[0;31mKeyboardInterrupt\u001b[0m: "
     ]
    }
   ],
   "source": [
    "#! python3\n",
    "# downloadXkcd.py - XKCDコミックをひとつずつダウンロードする\n",
    "\n",
    "import requests, os, bs4\n",
    "import time\n",
    "\n",
    "url = 'http://xkcd.com/'               # 開始URL\n",
    "os.makedirs('xkcd', exist_ok=True)    # ./xkcdに保存する\n",
    "\n",
    "while not url.endswith('#'):\n",
    "    # ページをダウンロードする\n",
    "    print('ページをダウンロード中 {}...'.format(url))\n",
    "    res = requests.get(url)\n",
    "    res.raise_for_status()\n",
    "\n",
    "    soup = bs4.BeautifulSoup(res.text)\n",
    "\n",
    "    # コミック画像のURLを見つける\n",
    "    comic_elem = soup.select('#comic img')\n",
    "    if comic_elem == []:\n",
    "        print('コミック画像が見つかりませんでした。')\n",
    "    else:\n",
    "        comic_url = 'http:' + comic_elem[0].get('src')\n",
    "        # 画像をダウンロードする\n",
    "        print('画像をダウンロード中 {}...'.format(comic_url))\n",
    "        res = requests.get(comic_url)\n",
    "        res.raise_for_status()\n",
    "\n",
    "        # 画像を./xkcdに保存する\n",
    "        image_file = open(os.path.join('xkcd', os.path.basename(comic_url)), 'wb')\n",
    "        for chunk in res.iter_content(100000):\n",
    "            image_file.write(chunk)\n",
    "        image_file.close()\n",
    "        \n",
    "    # PrevボタンのURLを取得する\n",
    "    prev_link = soup.select('a[rel=\"prev\"]')[0]\n",
    "    url = 'http://xkcd.com' + prev_link.get('href')\n",
    "\n",
    "    time.sleep(20)\n",
    "\n",
    "print('完了')\n"
   ]
  },
  {
   "cell_type": "code",
   "execution_count": 3,
   "metadata": {},
   "outputs": [
    {
     "data": {
      "text/plain": [
       "bs4.BeautifulSoup"
      ]
     },
     "execution_count": 3,
     "metadata": {},
     "output_type": "execute_result"
    }
   ],
   "source": [
    "import requests, bs4\n",
    "res = requests.get('http://nostarch.com')\n",
    "res.raise_for_status()\n",
    "no_starch_soup = bs4.BeautifulSoup(res.text)\n",
    "type(no_starch_soup)\n",
    "\n"
   ]
  },
  {
   "cell_type": "code",
   "execution_count": 4,
   "metadata": {},
   "outputs": [
    {
     "data": {
      "text/plain": [
       "bs4.BeautifulSoup"
      ]
     },
     "execution_count": 4,
     "metadata": {},
     "output_type": "execute_result"
    }
   ],
   "source": [
    "example_file = open('example.html')\n",
    "example_soup = bs4.BeautifulSoup(example_file)\n",
    "type(example_soup)"
   ]
  },
  {
   "cell_type": "code",
   "execution_count": null,
   "metadata": {},
   "outputs": [],
   "source": [
    "#! python3\n",
    "# lucky.py - Google検索結果をいくつか開く\n",
    "\n",
    "import requests, sys, webbrowser, bs4\n",
    "\n",
    "print('Googling...')  # Googleページをダウンロード中にテキストを表示\n",
    "res = requests.get('http://google.com/search?q=' + ' '.join(sys.argv[1:]))\n",
    "res.raise_for_status()\n",
    "\n",
    "# 上位の検索結果のリンクを取得する\n",
    "soup = bs4.BeautifulSoup(res.text)\n",
    "link_elems = soup.select('.r a')\n",
    "\n",
    "# 各結果をブラウザのタブで開く\n",
    "num_open = min(5, len(link_elems))\n",
    "for i in range(num_open):\n",
    "    webbrowser.open('http://google.com' + link_elems[i].get('href'))\n",
    "\n"
   ]
  }
 ],
 "metadata": {
  "kernelspec": {
   "display_name": "Python 3",
   "language": "python",
   "name": "python3"
  },
  "language_info": {
   "codemirror_mode": {
    "name": "ipython",
    "version": 3
   },
   "file_extension": ".py",
   "mimetype": "text/x-python",
   "name": "python",
   "nbconvert_exporter": "python",
   "pygments_lexer": "ipython3",
   "version": "3.7.3"
  }
 },
 "nbformat": 4,
 "nbformat_minor": 2
}
