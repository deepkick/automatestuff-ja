{
 "cells": [
  {
   "cell_type": "markdown",
   "metadata": {},
   "source": [
    "# 退屈なことはPythonにやらせよう\n",
    "\n",
    "---\n",
    "\n",
    "![表紙](automate-the-boring-stuff-with-python.png)\n",
    "\n",
    "---\n",
    "\n",
    "本リポジトリはオライリー・ジャパン発行書籍『[退屈なことはPythonにやらせよう](https://www.oreilly.co.jp/books/9784873117782/)』（原書名『[Automate the Boring Stuff with Python](https://www.nostarch.com/automatestuff)』） のサポートサイトです。\n",
    "\n",
    "## サンプルコード\n",
    "\n",
    "サンプルコードの解説は本書籍をご覧ください。\n",
    "\n",
    "## 【新規】演習プロジェクトの解答例\n",
    "\n",
    "読者の皆様のご要望が多かったため、演習プロジェクトの解答例を追加しました。\n",
    "(https://github.com/oreilly-japan/automatestuff-ja/blob/master/practice_pj/practice_projects_20170727.zip)\n",
    "\n",
    "ご購読者の特典とするため、ZIPファイルにはパスワードを設定してあります。\n",
    "パスワードは、11.3.4節の本文に現れる最初の英単語3つをつなげたものです。\n",
    "\n",
    "解答例は、以下の注意点をご了承の上お使いください。\n",
    "\n",
    "- 訳者が独自に作成したものです。原著者のAl Sweigart氏には問い合わせないでください。\n",
    "- 動作保証はしません。サンプルとしてお使いください。\n",
    "- 演習プロジェクトのすべての要求を満たすものではありません。要求があいまいなものや、自由度が多すぎるものについては、適当に端折っています。\n",
    "- IDやパスワード、APIキーなど、読者の環境に合わせて改変が必要なものがあります。\n",
    "- 不定期に更新されることがあります。\n",
    "- ZIPのパスワードは不定期に変更されることがあります。\n",
    "\n",
    "## 正誤表\n",
    "\n",
    "本書の正誤情報は以下のページで公開しています。\n",
    "\n",
    "https://github.com/oreilly-japan/automatestuff-ja/wiki/errata\n",
    "\n",
    "本ページに掲載されていない誤植など間違いを見つけた方は、[japan＠oreilly.co.jp](<mailto:japan＠oreilly.co.jp>)までお知らせください。\n"
   ]
  },
  {
   "cell_type": "code",
   "execution_count": null,
   "metadata": {},
   "outputs": [],
   "source": []
  }
 ],
 "metadata": {
  "kernelspec": {
   "display_name": "Python 3",
   "language": "python",
   "name": "python3"
  },
  "language_info": {
   "codemirror_mode": {
    "name": "ipython",
    "version": 3
   },
   "file_extension": ".py",
   "mimetype": "text/x-python",
   "name": "python",
   "nbconvert_exporter": "python",
   "pygments_lexer": "ipython3",
   "version": "3.7.3"
  }
 },
 "nbformat": 4,
 "nbformat_minor": 2
}
