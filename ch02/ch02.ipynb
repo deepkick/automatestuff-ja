{
 "cells": [
  {
   "cell_type": "code",
   "execution_count": 2,
   "metadata": {},
   "outputs": [
    {
     "name": "stdout",
     "output_type": "stream",
     "text": [
      "私の名前は\n",
      "石川五右衛門 (0)\n",
      "石川五右衛門 (1)\n",
      "石川五右衛門 (2)\n",
      "石川五右衛門 (3)\n",
      "石川五右衛門 (4)\n",
      "石川五右衛門 (5)\n",
      "石川五右衛門 (6)\n",
      "石川五右衛門 (7)\n",
      "石川五右衛門 (8)\n",
      "石川五右衛門 (9)\n"
     ]
    }
   ],
   "source": [
    "print('私の名前は')\n",
    "for i in range(10):\n",
    "    print('石川五右衛門 (' + str(i) + ')')"
   ]
  },
  {
   "cell_type": "code",
   "execution_count": 3,
   "metadata": {},
   "outputs": [
    {
     "name": "stdout",
     "output_type": "stream",
     "text": [
      "私の名前は\n",
      "石川五右衛門 (0)\n",
      "石川五右衛門 (1)\n",
      "石川五右衛門 (2)\n",
      "石川五右衛門 (3)\n",
      "石川五右衛門 (4)\n",
      "石川五右衛門 (5)\n",
      "石川五右衛門 (6)\n",
      "石川五右衛門 (7)\n",
      "石川五右衛門 (8)\n",
      "石川五右衛門 (9)\n"
     ]
    }
   ],
   "source": [
    "print('私の名前は')\n",
    "i = 0\n",
    "while i < 10:\n",
    "    print('石川五右衛門 (' + str(i) + ')')\n",
    "    i = i + 1\n"
   ]
  },
  {
   "cell_type": "code",
   "execution_count": 4,
   "metadata": {},
   "outputs": [
    {
     "name": "stdout",
     "output_type": "stream",
     "text": [
      "2\n",
      "10\n",
      "6\n",
      "10\n",
      "7\n"
     ]
    }
   ],
   "source": [
    "import random\n",
    "for i in range(5):\n",
    "    print(random.randint(1, 10))\n"
   ]
  },
  {
   "cell_type": "code",
   "execution_count": 6,
   "metadata": {},
   "outputs": [
    {
     "name": "stdout",
     "output_type": "stream",
     "text": [
      "終了するにはexitと入力してください。\n",
      "exit\n"
     ]
    },
    {
     "ename": "SystemExit",
     "evalue": "",
     "output_type": "error",
     "traceback": [
      "An exception has occurred, use %tb to see the full traceback.\n",
      "\u001b[0;31mSystemExit\u001b[0m\n"
     ]
    }
   ],
   "source": [
    "import sys\n",
    " \n",
    "while True:\n",
    "    print('終了するにはexitと入力してください。')\n",
    "    response = input()\n",
    "    if response == 'exit':\n",
    "        sys.exit()\n",
    "    print(response + 'と入力されました。')\n"
   ]
  },
  {
   "cell_type": "code",
   "execution_count": null,
   "metadata": {},
   "outputs": [],
   "source": []
  }
 ],
 "metadata": {
  "kernelspec": {
   "display_name": "Python 3",
   "language": "python",
   "name": "python3"
  },
  "language_info": {
   "codemirror_mode": {
    "name": "ipython",
    "version": 3
   },
   "file_extension": ".py",
   "mimetype": "text/x-python",
   "name": "python",
   "nbconvert_exporter": "python",
   "pygments_lexer": "ipython3",
   "version": "3.7.3"
  }
 },
 "nbformat": 4,
 "nbformat_minor": 2
}
