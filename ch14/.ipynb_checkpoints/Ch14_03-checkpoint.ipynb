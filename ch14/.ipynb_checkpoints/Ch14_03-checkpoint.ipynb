{
 "cells": [
  {
   "cell_type": "code",
   "execution_count": 1,
   "metadata": {},
   "outputs": [
    {
     "name": "stdout",
     "output_type": "stream",
     "text": [
      "{'id': 801, 'main': 'Clouds', 'description': 'few clouds', 'icon': '02n'}\n",
      "current - id : 801\n",
      "current - main : Clouds\n",
      "current - description : few clouds\n"
     ]
    },
    {
     "data": {
      "text/plain": [
       "\"\\n# 天気予報の情報を表示する\\nw = weather_data['list']  # ❶\\nprint('{}の現在の天気:'.format(location))\\nprint(w[0]['weather'][0]['main'], '-', w[0]['weather'][0]['description'])\\nprint()\\nprint('明日:')\\nprint(w[1]['weather'][0]['main'], '-', w[1]['weather'][0]['description'])\\nprint()\\nprint('明後日:')\\nprint(w[2]['weather'][0]['main'], '-', w[2]['weather'][0]['description'])\\n\""
      ]
     },
     "execution_count": 1,
     "metadata": {},
     "output_type": "execute_result"
    }
   ],
   "source": [
    "#! python3\n",
    "# quickWeather.py - コマンドラインに指定した地名の天気予報を表示する\n",
    "\n",
    "import json, requests, sys\n",
    "\n",
    "# コマンドライン引数から地名を組み立てる\n",
    "if len(sys.argv) < 2:\n",
    "    print('Usage: quickWeather.py location')\n",
    "    sys.exit()\n",
    "location = ' '.join(sys.argv[1:])\n",
    "\n",
    "# openweathermap.orgから取得したAPIキーを定義しておく\n",
    "APPID='b78ab8f2fd34aba126ed4e950e1ecefc'\n",
    "assert APPID != '', 'APPIDを定義してください。'\n",
    "\n",
    "# OpenWeatherMap.orgのAPIからJSONデータをダウンロードする\n",
    "# url ='http://api.openweathermap.org/data/2.5/forecast/daily?q={}&cnt=3&appid={}'.format(location, APPID)\n",
    "url ='https://api.openweathermap.org/data/2.5/onecall?lat=35.003619&lon=135.759709&%20exclude=daily&appid={}'.format(APPID)\n",
    "# ex. https://api.openweathermap.org/data/2.5/onecall?lat=35.003619&lon=135.759709&%20exclude=daily&appid=b78ab8f2fd34aba126ed4e950e1ecefc\n",
    "response = requests.get(url)\n",
    "response.raise_for_status()\n",
    "\n",
    "# JSONデータからPython変数に読み込む\n",
    "weather_data = json.loads(response.text)\n",
    "#print(weather_data)\n",
    "w = weather_data['current']['weather'][0]\n",
    "print(w)\n",
    "\n",
    "print('current - id : {}'.format(w['id']))\n",
    "print('current - main : {}'.format(w['main']))\n",
    "print('current - description : {}'.format(w['description']))\n",
    "\n",
    "'''\n",
    "# 天気予報の情報を表示する\n",
    "w = weather_data['list']  # ❶\n",
    "print('{}の現在の天気:'.format(location))\n",
    "print(w[0]['weather'][0]['main'], '-', w[0]['weather'][0]['description'])\n",
    "print()\n",
    "print('明日:')\n",
    "print(w[1]['weather'][0]['main'], '-', w[1]['weather'][0]['description'])\n",
    "print()\n",
    "print('明後日:')\n",
    "print(w[2]['weather'][0]['main'], '-', w[2]['weather'][0]['description'])\n",
    "'''\n",
    "\n"
   ]
  },
  {
   "cell_type": "code",
   "execution_count": null,
   "metadata": {},
   "outputs": [],
   "source": []
  }
 ],
 "metadata": {
  "kernelspec": {
   "display_name": "Python 3",
   "language": "python",
   "name": "python3"
  },
  "language_info": {
   "codemirror_mode": {
    "name": "ipython",
    "version": 3
   },
   "file_extension": ".py",
   "mimetype": "text/x-python",
   "name": "python",
   "nbconvert_exporter": "python",
   "pygments_lexer": "ipython3",
   "version": "3.7.3"
  }
 },
 "nbformat": 4,
 "nbformat_minor": 2
}
