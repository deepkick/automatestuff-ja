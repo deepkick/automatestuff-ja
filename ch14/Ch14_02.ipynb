{
 "cells": [
  {
   "cell_type": "code",
   "execution_count": 1,
   "metadata": {},
   "outputs": [
    {
     "name": "stdout",
     "output_type": "stream",
     "text": [
      "見出し削除中 example.csv...\n"
     ]
    }
   ],
   "source": [
    "#! python3\n",
    "# removeCsvHeader.py - カレントディレクトリの全CSVファイルから見出しを削除する\n",
    "\n",
    "import csv, os\n",
    "\n",
    "os.makedirs('headerRemoved', exist_ok=True)\n",
    "\n",
    "# カレントディレクトリの全ファイルをループする\n",
    "for csv_filename in os.listdir('.'):\n",
    "    if not csv_filename.endswith('.csv'):\n",
    "        continue # CSVファイルでなければスキップ ❶\n",
    "\n",
    "    print('見出し削除中 ' + csv_filename + '...')\n",
    "\n",
    "    # CSVファイルを読み込む（最初の行をスキップする）\n",
    "    csv_rows = []\n",
    "    csv_file_obj = open(csv_filename)\n",
    "    reader_obj = csv.reader(csv_file_obj)\n",
    "    for row in reader_obj:\n",
    "        if reader_obj.line_num == 1:\n",
    "            continue   # 最初の行をスキップする\n",
    "        csv_rows.append(row)\n",
    "    csv_file_obj.close()\n",
    "\n",
    "    # CSVファイルを書き出す\n",
    "    csv_file_obj = open(os.path.join('headerRemoved', csv_filename), 'w',\n",
    "                newline='')\n",
    "    csv_writer = csv.writer(csv_file_obj)\n",
    "    for row in csv_rows:\n",
    "        csv_writer.writerow(row)\n",
    "    csv_file_obj.close()\n",
    "\n"
   ]
  },
  {
   "cell_type": "code",
   "execution_count": null,
   "metadata": {},
   "outputs": [],
   "source": []
  }
 ],
 "metadata": {
  "kernelspec": {
   "display_name": "Python 3",
   "language": "python",
   "name": "python3"
  },
  "language_info": {
   "codemirror_mode": {
    "name": "ipython",
    "version": 3
   },
   "file_extension": ".py",
   "mimetype": "text/x-python",
   "name": "python",
   "nbconvert_exporter": "python",
   "pygments_lexer": "ipython3",
   "version": "3.7.3"
  }
 },
 "nbformat": 4,
 "nbformat_minor": 2
}
