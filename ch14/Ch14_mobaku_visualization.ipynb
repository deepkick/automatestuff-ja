{
 "cells": [
  {
   "cell_type": "markdown",
   "metadata": {},
   "source": [
    "# 退屈なことはPythonにやらせよう\n",
    "## 14章 CSVとJSON\n",
    "### 【ゼロからのTellusの使い方】モバイル空間統計データで渋谷と巣鴨を比較してみた\n",
    "https://sorabatake.jp/12299/\n"
   ]
  },
  {
   "cell_type": "code",
   "execution_count": 22,
   "metadata": {},
   "outputs": [
    {
     "data": {
      "text/plain": [
       "[{'datetime': '2017-05-01T12:00:00+00:00',\n",
       "  'mesh': '533935962',\n",
       "  'lon': 139.70625,\n",
       "  'lat': 35.6583333,\n",
       "  'total': 5659,\n",
       "  'male_15': 106,\n",
       "  'male_20': 709,\n",
       "  'male_30': 998,\n",
       "  'male_40': 691,\n",
       "  'male_50': 387,\n",
       "  'male_60': 204,\n",
       "  'male_70': 104,\n",
       "  'female_15': 116,\n",
       "  'female_20': 648,\n",
       "  'female_30': 641,\n",
       "  'female_40': 454,\n",
       "  'female_50': 271,\n",
       "  'female_60': 189,\n",
       "  'female_70': 141}]"
      ]
     },
     "execution_count": 22,
     "metadata": {},
     "output_type": "execute_result"
    }
   ],
   "source": [
    "import os, requests\n",
    "\n",
    "url = 'http://deepkick.com/mobaku/mobaku_001.json'\n",
    "r = requests.get(url)\n",
    "data_shibuya = r.json()\n",
    "data_shibuya"
   ]
  },
  {
   "cell_type": "code",
   "execution_count": 23,
   "metadata": {},
   "outputs": [
    {
     "data": {
      "text/html": [
       "<div>\n",
       "<style scoped>\n",
       "    .dataframe tbody tr th:only-of-type {\n",
       "        vertical-align: middle;\n",
       "    }\n",
       "\n",
       "    .dataframe tbody tr th {\n",
       "        vertical-align: top;\n",
       "    }\n",
       "\n",
       "    .dataframe thead th {\n",
       "        text-align: right;\n",
       "    }\n",
       "</style>\n",
       "<table border=\"1\" class=\"dataframe\">\n",
       "  <thead>\n",
       "    <tr style=\"text-align: right;\">\n",
       "      <th></th>\n",
       "      <th>datetime</th>\n",
       "      <th>mesh</th>\n",
       "      <th>lon</th>\n",
       "      <th>lat</th>\n",
       "      <th>total</th>\n",
       "      <th>male_15</th>\n",
       "      <th>male_20</th>\n",
       "      <th>male_30</th>\n",
       "      <th>male_40</th>\n",
       "      <th>male_50</th>\n",
       "      <th>male_60</th>\n",
       "      <th>male_70</th>\n",
       "      <th>female_15</th>\n",
       "      <th>female_20</th>\n",
       "      <th>female_30</th>\n",
       "      <th>female_40</th>\n",
       "      <th>female_50</th>\n",
       "      <th>female_60</th>\n",
       "      <th>female_70</th>\n",
       "    </tr>\n",
       "  </thead>\n",
       "  <tbody>\n",
       "    <tr>\n",
       "      <th>0</th>\n",
       "      <td>2017-05-01T12:00:00+00:00</td>\n",
       "      <td>533935962</td>\n",
       "      <td>139.70625</td>\n",
       "      <td>35.658333</td>\n",
       "      <td>5659</td>\n",
       "      <td>106</td>\n",
       "      <td>709</td>\n",
       "      <td>998</td>\n",
       "      <td>691</td>\n",
       "      <td>387</td>\n",
       "      <td>204</td>\n",
       "      <td>104</td>\n",
       "      <td>116</td>\n",
       "      <td>648</td>\n",
       "      <td>641</td>\n",
       "      <td>454</td>\n",
       "      <td>271</td>\n",
       "      <td>189</td>\n",
       "      <td>141</td>\n",
       "    </tr>\n",
       "  </tbody>\n",
       "</table>\n",
       "</div>"
      ],
      "text/plain": [
       "                    datetime       mesh        lon        lat  total  male_15  \\\n",
       "0  2017-05-01T12:00:00+00:00  533935962  139.70625  35.658333   5659      106   \n",
       "\n",
       "   male_20  male_30  male_40  male_50  male_60  male_70  female_15  female_20  \\\n",
       "0      709      998      691      387      204      104        116        648   \n",
       "\n",
       "   female_30  female_40  female_50  female_60  female_70  \n",
       "0        641        454        271        189        141  "
      ]
     },
     "execution_count": 23,
     "metadata": {},
     "output_type": "execute_result"
    }
   ],
   "source": [
    "import pandas as pd\n",
    "df_shibuya = pd.DataFrame(data_shibuya)\n",
    "df_shibuya"
   ]
  },
  {
   "cell_type": "code",
   "execution_count": 24,
   "metadata": {},
   "outputs": [
    {
     "data": {
      "text/plain": [
       "<matplotlib.axes._subplots.AxesSubplot at 0x11f312dd8>"
      ]
     },
     "execution_count": 24,
     "metadata": {},
     "output_type": "execute_result"
    },
    {
     "data": {
      "image/png": "[encoded data removed]",
      "text/plain": [
       "<Figure size 432x288 with 1 Axes>"
      ]
     },
     "metadata": {
      "needs_background": "light"
     },
     "output_type": "display_data"
    },
    {
     "data": {
      "image/png": "[encoded data removed]",
      "text/plain": [
       "<Figure size 432x288 with 1 Axes>"
      ]
     },
     "metadata": {
      "needs_background": "light"
     },
     "output_type": "display_data"
    }
   ],
   "source": [
    "df_shibuya_male = df_shibuya.loc[:, df_shibuya.columns.str.startswith('male')]\n",
    "df_shibuya_female = df_shibuya.loc[:, df_shibuya.columns.str.startswith('female')]\n",
    "\n",
    "df_shibuya_male.plot.bar()\n",
    "df_shibuya_female.plot.bar()"
   ]
  },
  {
   "cell_type": "code",
   "execution_count": 25,
   "metadata": {},
   "outputs": [
    {
     "data": {
      "text/plain": [
       "[{'datetime': '2017-05-01T12:00:00+00:00',\n",
       "  'mesh': '533945892',\n",
       "  'lon': 139.74375,\n",
       "  'lat': 35.7333333,\n",
       "  'total': 5110,\n",
       "  'male_15': 71,\n",
       "  'male_20': 346,\n",
       "  'male_30': 532,\n",
       "  'male_40': 501,\n",
       "  'male_50': 381,\n",
       "  'male_60': 441,\n",
       "  'male_70': 248,\n",
       "  'female_15': 72,\n",
       "  'female_20': 361,\n",
       "  'female_30': 502,\n",
       "  'female_40': 513,\n",
       "  'female_50': 372,\n",
       "  'female_60': 381,\n",
       "  'female_70': 389}]"
      ]
     },
     "execution_count": 25,
     "metadata": {},
     "output_type": "execute_result"
    }
   ],
   "source": [
    "url = 'http://deepkick.com/mobaku/mobaku_002.json'\n",
    "r = requests.get(url)\n",
    "data_sugamo = r.json()\n",
    "data_sugamo"
   ]
  },
  {
   "cell_type": "code",
   "execution_count": 26,
   "metadata": {},
   "outputs": [
    {
     "data": {
      "text/html": [
       "<div>\n",
       "<style scoped>\n",
       "    .dataframe tbody tr th:only-of-type {\n",
       "        vertical-align: middle;\n",
       "    }\n",
       "\n",
       "    .dataframe tbody tr th {\n",
       "        vertical-align: top;\n",
       "    }\n",
       "\n",
       "    .dataframe thead th {\n",
       "        text-align: right;\n",
       "    }\n",
       "</style>\n",
       "<table border=\"1\" class=\"dataframe\">\n",
       "  <thead>\n",
       "    <tr style=\"text-align: right;\">\n",
       "      <th></th>\n",
       "      <th>datetime</th>\n",
       "      <th>mesh</th>\n",
       "      <th>lon</th>\n",
       "      <th>lat</th>\n",
       "      <th>total</th>\n",
       "      <th>male_15</th>\n",
       "      <th>male_20</th>\n",
       "      <th>male_30</th>\n",
       "      <th>male_40</th>\n",
       "      <th>male_50</th>\n",
       "      <th>male_60</th>\n",
       "      <th>male_70</th>\n",
       "      <th>female_15</th>\n",
       "      <th>female_20</th>\n",
       "      <th>female_30</th>\n",
       "      <th>female_40</th>\n",
       "      <th>female_50</th>\n",
       "      <th>female_60</th>\n",
       "      <th>female_70</th>\n",
       "    </tr>\n",
       "  </thead>\n",
       "  <tbody>\n",
       "    <tr>\n",
       "      <th>0</th>\n",
       "      <td>2017-05-01T12:00:00+00:00</td>\n",
       "      <td>533945892</td>\n",
       "      <td>139.74375</td>\n",
       "      <td>35.733333</td>\n",
       "      <td>5110</td>\n",
       "      <td>71</td>\n",
       "      <td>346</td>\n",
       "      <td>532</td>\n",
       "      <td>501</td>\n",
       "      <td>381</td>\n",
       "      <td>441</td>\n",
       "      <td>248</td>\n",
       "      <td>72</td>\n",
       "      <td>361</td>\n",
       "      <td>502</td>\n",
       "      <td>513</td>\n",
       "      <td>372</td>\n",
       "      <td>381</td>\n",
       "      <td>389</td>\n",
       "    </tr>\n",
       "  </tbody>\n",
       "</table>\n",
       "</div>"
      ],
      "text/plain": [
       "                    datetime       mesh        lon        lat  total  male_15  \\\n",
       "0  2017-05-01T12:00:00+00:00  533945892  139.74375  35.733333   5110       71   \n",
       "\n",
       "   male_20  male_30  male_40  male_50  male_60  male_70  female_15  female_20  \\\n",
       "0      346      532      501      381      441      248         72        361   \n",
       "\n",
       "   female_30  female_40  female_50  female_60  female_70  \n",
       "0        502        513        372        381        389  "
      ]
     },
     "execution_count": 26,
     "metadata": {},
     "output_type": "execute_result"
    }
   ],
   "source": [
    "df_sugamo = pd.DataFrame(data_sugamo)\n",
    "df_sugamo"
   ]
  },
  {
   "cell_type": "code",
   "execution_count": 27,
   "metadata": {},
   "outputs": [
    {
     "data": {
      "text/plain": [
       "<matplotlib.axes._subplots.AxesSubplot at 0x11f5440f0>"
      ]
     },
     "execution_count": 27,
     "metadata": {},
     "output_type": "execute_result"
    },
    {
     "data": {
      "image/png": "[encoded data removed]",
      "text/plain": [
       "<Figure size 432x288 with 1 Axes>"
      ]
     },
     "metadata": {
      "needs_background": "light"
     },
     "output_type": "display_data"
    },
    {
     "data": {
      "image/png": "[encoded data removed]",
      "text/plain": [
       "<Figure size 432x288 with 1 Axes>"
      ]
     },
     "metadata": {
      "needs_background": "light"
     },
     "output_type": "display_data"
    }
   ],
   "source": [
    "df_sugamo_male = df_sugamo.loc[:, df_sugamo.columns.str.startswith('male')]\n",
    "df_sugamo_female = df_sugamo.loc[:, df_sugamo.columns.str.startswith('female')]\n",
    "\n",
    "df_sugamo_male.plot.bar()\n",
    "df_sugamo_female.plot.bar()"
   ]
  },
  {
   "cell_type": "code",
   "execution_count": null,
   "metadata": {},
   "outputs": [],
   "source": []
  }
 ],
 "metadata": {
  "kernelspec": {
   "display_name": "Python 3",
   "language": "python",
   "name": "python3"
  },
  "language_info": {
   "codemirror_mode": {
    "name": "ipython",
    "version": 3
   },
   "file_extension": ".py",
   "mimetype": "text/x-python",
   "name": "python",
   "nbconvert_exporter": "python",
   "pygments_lexer": "ipython3",
   "version": "3.7.3"
  }
 },
 "nbformat": 4,
 "nbformat_minor": 2
}
